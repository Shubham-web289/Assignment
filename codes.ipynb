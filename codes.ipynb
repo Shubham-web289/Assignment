{
 "cells": [
  {
   "cell_type": "code",
   "execution_count": 1,
   "id": "1bbb188b-658c-4fb3-817c-4ebb7125ed10",
   "metadata": {
    "tags": []
   },
   "outputs": [],
   "source": [
    "import pandas as pd\n",
    "import numpy as np\n",
    "import matplotlib.pyplot as plt\n",
    "import seaborn as sns\n",
    "from sklearn.metrics import f1_score\n",
    "from sklearn.impute import SimpleImputer\n",
    "from sklearn.preprocessing import OneHotEncoder\n",
    "from sklearn.preprocessing import OrdinalEncoder\n",
    "from sklearn.preprocessing import StandardScaler\n",
    "from sklearn.tree import DecisionTreeClassifier\n",
    "from sklearn.model_selection import train_test_split\n",
    "from sklearn.metrics import confusion_matrix\n",
    "from sklearn.linear_model import LogisticRegression\n",
    "from sklearn.metrics import classification_report"
   ]
  },
  {
   "cell_type": "code",
   "execution_count": 2,
   "id": "9b40e6e0-0eb2-404f-9717-df4493348f48",
   "metadata": {
    "tags": []
   },
   "outputs": [],
   "source": [
    "def plot_feature_importances_cancer(X,model):\n",
    "     n_features = X.shape[1]\n",
    "     plt.barh(range(n_features), model.feature_importances_, align='center')\n",
    "     plt.yticks(np.arange(n_features), X.columns)\n",
    "     plt.xlabel(\"Feature importance\")\n",
    "     plt.ylabel(\"Feature\")"
   ]
  },
  {
   "cell_type": "code",
   "execution_count": 3,
   "id": "ac0dabb5-367d-4b9f-b81c-59c1a129102a",
   "metadata": {
    "tags": []
   },
   "outputs": [],
   "source": [
    "train_df = pd.read_csv(\"train.csv\")\n",
    "test_df = pd.read_csv(\"test.csv\")  "
   ]
  },
  {
   "cell_type": "code",
   "execution_count": 4,
   "id": "95c27f71-514e-4d43-8e6b-896d362fd759",
   "metadata": {
    "tags": []
   },
   "outputs": [],
   "source": [
    "#test_df dataset is not containing label i.e., Loan Status is empty.Hence can not be used for testing.\n",
    "train,test = train_test_split(train_df,test_size = 0.3,random_state = 0,stratify = train_df[\"Loan Status\"])"
   ]
  },
  {
   "cell_type": "code",
   "execution_count": 5,
   "id": "b81aaee6-344d-4f4b-857b-967e643f89ef",
   "metadata": {
    "tags": []
   },
   "outputs": [
    {
     "name": "stdout",
     "output_type": "stream",
     "text": [
      "<class 'pandas.core.frame.DataFrame'>\n",
      "Int64Index: 47294 entries, 48901 to 51064\n",
      "Data columns (total 35 columns):\n",
      " #   Column                        Non-Null Count  Dtype  \n",
      "---  ------                        --------------  -----  \n",
      " 0   ID                            47294 non-null  int64  \n",
      " 1   Loan Amount                   46513 non-null  float64\n",
      " 2   Funded Amount                 47294 non-null  int64  \n",
      " 3   Funded Amount Investor        47294 non-null  float64\n",
      " 4   Term                          46678 non-null  float64\n",
      " 5   Batch Enrolled                47294 non-null  object \n",
      " 6   Interest Rate                 47294 non-null  float64\n",
      " 7   Grade                         47294 non-null  object \n",
      " 8   Sub Grade                     47294 non-null  object \n",
      " 9   Home Ownership                47294 non-null  object \n",
      " 10  Employment Duration           47294 non-null  float64\n",
      " 11  Verification Status           47294 non-null  object \n",
      " 12  Payment Plan                  47294 non-null  object \n",
      " 13  Loan Title                    47294 non-null  object \n",
      " 14  Debit to Income               47294 non-null  float64\n",
      " 15  Delinquency - two years       47294 non-null  int64  \n",
      " 16  Inquires - six months         47294 non-null  int64  \n",
      " 17  Open Account                  47294 non-null  int64  \n",
      " 18  Public Record                 47294 non-null  int64  \n",
      " 19  Revolving Balance             47294 non-null  int64  \n",
      " 20  Revolving Utilities           47294 non-null  float64\n",
      " 21  Total Accounts                47294 non-null  int64  \n",
      " 22  Initial List Status           47294 non-null  object \n",
      " 23  Total Received Interest       47294 non-null  float64\n",
      " 24  Total Received Late Fee       47294 non-null  float64\n",
      " 25  Recoveries                    47294 non-null  float64\n",
      " 26  Collection Recovery Fee       47294 non-null  float64\n",
      " 27  Collection 12 months Medical  47294 non-null  int64  \n",
      " 28  Application Type              47294 non-null  object \n",
      " 29  Last week Pay                 47294 non-null  int64  \n",
      " 30  Accounts Delinquent           47294 non-null  int64  \n",
      " 31  Total Collection Amount       47294 non-null  int64  \n",
      " 32  Total Current Balance         47294 non-null  int64  \n",
      " 33  Total Revolving Credit Limit  47294 non-null  int64  \n",
      " 34  Loan Status                   47294 non-null  int64  \n",
      "dtypes: float64(11), int64(15), object(9)\n",
      "memory usage: 13.0+ MB\n"
     ]
    }
   ],
   "source": [
    "train.info()"
   ]
  },
  {
   "cell_type": "code",
   "execution_count": 6,
   "id": "304f4941-50a3-4009-b642-8e8fee0cd35f",
   "metadata": {
    "tags": []
   },
   "outputs": [],
   "source": [
    "mean_inputation = SimpleImputer(strategy = \"mean\")\n",
    "mode_imputation = SimpleImputer(strategy = \"most_frequent\")"
   ]
  },
  {
   "cell_type": "code",
   "execution_count": 7,
   "id": "af0b508d-bc26-41aa-89fc-38ea5feaa747",
   "metadata": {
    "tags": []
   },
   "outputs": [],
   "source": [
    "train[\"Loan Amount\"] = mean_inputation.fit_transform(train[[\"Loan Amount\"]])\n",
    "\n",
    "test[\"Loan Amount\"] = mean_inputation.transform(test[[\"Loan Amount\"]])"
   ]
  },
  {
   "cell_type": "code",
   "execution_count": 8,
   "id": "0f782011-2101-4356-b21a-e42511b5271f",
   "metadata": {
    "tags": []
   },
   "outputs": [],
   "source": [
    "train[\"Term\"] = mode_imputation.fit_transform(train[[\"Term\"]])\n",
    "test[\"Term\"] = mode_imputation.transform(test[[\"Term\"]])"
   ]
  },
  {
   "cell_type": "code",
   "execution_count": 9,
   "id": "209e4a69-41a3-4e38-8847-05b1d37720f1",
   "metadata": {
    "tags": []
   },
   "outputs": [],
   "source": [
    "X_train = train.drop(columns = [\"ID\",\"Loan Status\",\"Payment Plan\",\"Accounts Delinquent\",\"Batch Enrolled\"])\n",
    "y_train = train[\"Loan Status\"].astype(int)\n",
    "\n",
    "X_test = test.drop(columns = [\"ID\",\"Loan Status\",\"Payment Plan\",\"Accounts Delinquent\",\"Batch Enrolled\"])\n",
    "y_test = test[\"Loan Status\"].astype(int)"
   ]
  },
  {
   "cell_type": "code",
   "execution_count": 10,
   "id": "b799885f-fbb5-4959-807b-9bbdbed41ff8",
   "metadata": {
    "tags": []
   },
   "outputs": [],
   "source": [
    "categorical_col = [col for col in X_train.columns if X_train[col].dtypes == 'object']\n",
    "numerical_col = list(set(X_train.columns) - set(categorical_col))"
   ]
  },
  {
   "cell_type": "code",
   "execution_count": 11,
   "id": "1d723392-d498-4b0e-9704-3cafdd544a53",
   "metadata": {
    "tags": []
   },
   "outputs": [],
   "source": [
    "enc = OrdinalEncoder()\n",
    "scaler = StandardScaler()"
   ]
  },
  {
   "cell_type": "code",
   "execution_count": 12,
   "id": "1dd1b2b1-7718-40c3-95ba-1cdf564e6605",
   "metadata": {
    "tags": []
   },
   "outputs": [],
   "source": [
    "train_categorical_col = enc.fit_transform(X_train[categorical_col])\n",
    "\n",
    "train_numerical_col = scaler.fit_transform(X_train[numerical_col])\n",
    "\n",
    "X_train_transformed = pd.DataFrame(np.hstack((train_categorical_col,train_numerical_col)),\n",
    "                columns = X_train.columns)"
   ]
  },
  {
   "cell_type": "code",
   "execution_count": 13,
   "id": "8d5b00fc-755f-4531-bc20-316d7b38c224",
   "metadata": {
    "tags": []
   },
   "outputs": [],
   "source": [
    "test_categorical_col = enc.transform(X_test[categorical_col])\n",
    "\n",
    "test_numerical_col = scaler.transform(X_test[numerical_col])\n",
    "\n",
    "X_test_transformed = pd.DataFrame(np.hstack((test_categorical_col,test_numerical_col)),\n",
    "                columns = X_test.columns)"
   ]
  },
  {
   "cell_type": "code",
   "execution_count": 14,
   "id": "e81708d8-ad72-43d4-8f05-d85e81a61c72",
   "metadata": {
    "tags": []
   },
   "outputs": [],
   "source": [
    "tree = DecisionTreeClassifier(random_state = 0)"
   ]
  },
  {
   "cell_type": "code",
   "execution_count": 15,
   "id": "83b386ea-75d8-4d8f-939b-ad8e49db8f3d",
   "metadata": {
    "tags": []
   },
   "outputs": [
    {
     "data": {
      "text/html": [
       "<style>#sk-container-id-1 {color: black;}#sk-container-id-1 pre{padding: 0;}#sk-container-id-1 div.sk-toggleable {background-color: white;}#sk-container-id-1 label.sk-toggleable__label {cursor: pointer;display: block;width: 100%;margin-bottom: 0;padding: 0.3em;box-sizing: border-box;text-align: center;}#sk-container-id-1 label.sk-toggleable__label-arrow:before {content: \"▸\";float: left;margin-right: 0.25em;color: #696969;}#sk-container-id-1 label.sk-toggleable__label-arrow:hover:before {color: black;}#sk-container-id-1 div.sk-estimator:hover label.sk-toggleable__label-arrow:before {color: black;}#sk-container-id-1 div.sk-toggleable__content {max-height: 0;max-width: 0;overflow: hidden;text-align: left;background-color: #f0f8ff;}#sk-container-id-1 div.sk-toggleable__content pre {margin: 0.2em;color: black;border-radius: 0.25em;background-color: #f0f8ff;}#sk-container-id-1 input.sk-toggleable__control:checked~div.sk-toggleable__content {max-height: 200px;max-width: 100%;overflow: auto;}#sk-container-id-1 input.sk-toggleable__control:checked~label.sk-toggleable__label-arrow:before {content: \"▾\";}#sk-container-id-1 div.sk-estimator input.sk-toggleable__control:checked~label.sk-toggleable__label {background-color: #d4ebff;}#sk-container-id-1 div.sk-label input.sk-toggleable__control:checked~label.sk-toggleable__label {background-color: #d4ebff;}#sk-container-id-1 input.sk-hidden--visually {border: 0;clip: rect(1px 1px 1px 1px);clip: rect(1px, 1px, 1px, 1px);height: 1px;margin: -1px;overflow: hidden;padding: 0;position: absolute;width: 1px;}#sk-container-id-1 div.sk-estimator {font-family: monospace;background-color: #f0f8ff;border: 1px dotted black;border-radius: 0.25em;box-sizing: border-box;margin-bottom: 0.5em;}#sk-container-id-1 div.sk-estimator:hover {background-color: #d4ebff;}#sk-container-id-1 div.sk-parallel-item::after {content: \"\";width: 100%;border-bottom: 1px solid gray;flex-grow: 1;}#sk-container-id-1 div.sk-label:hover label.sk-toggleable__label {background-color: #d4ebff;}#sk-container-id-1 div.sk-serial::before {content: \"\";position: absolute;border-left: 1px solid gray;box-sizing: border-box;top: 0;bottom: 0;left: 50%;z-index: 0;}#sk-container-id-1 div.sk-serial {display: flex;flex-direction: column;align-items: center;background-color: white;padding-right: 0.2em;padding-left: 0.2em;position: relative;}#sk-container-id-1 div.sk-item {position: relative;z-index: 1;}#sk-container-id-1 div.sk-parallel {display: flex;align-items: stretch;justify-content: center;background-color: white;position: relative;}#sk-container-id-1 div.sk-item::before, #sk-container-id-1 div.sk-parallel-item::before {content: \"\";position: absolute;border-left: 1px solid gray;box-sizing: border-box;top: 0;bottom: 0;left: 50%;z-index: -1;}#sk-container-id-1 div.sk-parallel-item {display: flex;flex-direction: column;z-index: 1;position: relative;background-color: white;}#sk-container-id-1 div.sk-parallel-item:first-child::after {align-self: flex-end;width: 50%;}#sk-container-id-1 div.sk-parallel-item:last-child::after {align-self: flex-start;width: 50%;}#sk-container-id-1 div.sk-parallel-item:only-child::after {width: 0;}#sk-container-id-1 div.sk-dashed-wrapped {border: 1px dashed gray;margin: 0 0.4em 0.5em 0.4em;box-sizing: border-box;padding-bottom: 0.4em;background-color: white;}#sk-container-id-1 div.sk-label label {font-family: monospace;font-weight: bold;display: inline-block;line-height: 1.2em;}#sk-container-id-1 div.sk-label-container {text-align: center;}#sk-container-id-1 div.sk-container {/* jupyter's `normalize.less` sets `[hidden] { display: none; }` but bootstrap.min.css set `[hidden] { display: none !important; }` so we also need the `!important` here to be able to override the default hidden behavior on the sphinx rendered scikit-learn.org. See: https://github.com/scikit-learn/scikit-learn/issues/21755 */display: inline-block !important;position: relative;}#sk-container-id-1 div.sk-text-repr-fallback {display: none;}</style><div id=\"sk-container-id-1\" class=\"sk-top-container\"><div class=\"sk-text-repr-fallback\"><pre>DecisionTreeClassifier(random_state=0)</pre><b>In a Jupyter environment, please rerun this cell to show the HTML representation or trust the notebook. <br />On GitHub, the HTML representation is unable to render, please try loading this page with nbviewer.org.</b></div><div class=\"sk-container\" hidden><div class=\"sk-item\"><div class=\"sk-estimator sk-toggleable\"><input class=\"sk-toggleable__control sk-hidden--visually\" id=\"sk-estimator-id-1\" type=\"checkbox\" checked><label for=\"sk-estimator-id-1\" class=\"sk-toggleable__label sk-toggleable__label-arrow\">DecisionTreeClassifier</label><div class=\"sk-toggleable__content\"><pre>DecisionTreeClassifier(random_state=0)</pre></div></div></div></div></div>"
      ],
      "text/plain": [
       "DecisionTreeClassifier(random_state=0)"
      ]
     },
     "execution_count": 15,
     "metadata": {},
     "output_type": "execute_result"
    }
   ],
   "source": [
    "tree.fit(X_train_transformed,y_train)"
   ]
  },
  {
   "cell_type": "code",
   "execution_count": 16,
   "id": "0335ab2a-96b3-4b4c-8b5d-da09aeab48df",
   "metadata": {
    "tags": []
   },
   "outputs": [
    {
     "name": "stdout",
     "output_type": "stream",
     "text": [
      "Accuracy on training set: 1.000\n",
      "Accuracy on test set: 0.817\n"
     ]
    }
   ],
   "source": [
    "print(\"Accuracy on training set: {:.3f}\".format(tree.score(X_train_transformed, y_train)))\n",
    "\n",
    "print(\"Accuracy on test set: {:.3f}\".format(tree.score(X_test_transformed, y_test)))"
   ]
  },
  {
   "cell_type": "code",
   "execution_count": 17,
   "id": "34409a00-a1be-45ba-988a-5c62823b28f1",
   "metadata": {
    "tags": []
   },
   "outputs": [
    {
     "name": "stdout",
     "output_type": "stream",
     "text": [
      "f1 score on test set: 0.109\n"
     ]
    }
   ],
   "source": [
    "y_pred = tree.predict(X_test_transformed)\n",
    "print(\"f1 score on test set: {:.3f}\".format(f1_score(y_test,y_pred)))"
   ]
  },
  {
   "cell_type": "code",
   "execution_count": 18,
   "id": "5b915b7c-48d2-4898-b47e-a24c57d0dddd",
   "metadata": {
    "tags": []
   },
   "outputs": [],
   "source": [
    "from sklearn.ensemble import RandomForestClassifier"
   ]
  },
  {
   "cell_type": "code",
   "execution_count": 19,
   "id": "0f147f4f-c49b-4524-9413-dbfd578fdb28",
   "metadata": {
    "tags": []
   },
   "outputs": [
    {
     "name": "stdout",
     "output_type": "stream",
     "text": [
      "Accuracy on training set: 1.000\n",
      "Accuracy on test set: 0.908\n"
     ]
    }
   ],
   "source": [
    "rcf = RandomForestClassifier()\n",
    "rcf.fit(X_train_transformed,y_train)\n",
    "print(\"Accuracy on training set: {:.3f}\".format(rcf.score(X_train_transformed, y_train)))\n",
    "print(\"Accuracy on test set: {:.3f}\".format(rcf.score(X_test_transformed, y_test)))"
   ]
  },
  {
   "cell_type": "markdown",
   "id": "01364fdc-4dd9-43e4-926c-0aef6deb3aed",
   "metadata": {},
   "source": [
    "#### Lets decrease model complexity.This is can be done by the hyperparamter.\n",
    "1. max_depth controls the depth of the tree.Shallow tree do not overfit the data.\n",
    "2. Similiarly,min_samples_split and min_samples_leaf helps in avoiding overfiiting"
   ]
  },
  {
   "cell_type": "code",
   "execution_count": 20,
   "id": "47b0e3f3-dd41-4872-8df2-a1a5dba5a2b4",
   "metadata": {
    "tags": []
   },
   "outputs": [
    {
     "name": "stdout",
     "output_type": "stream",
     "text": [
      "Accuracy on training set: 0.907\n",
      "Accuracy on test set: 0.907\n"
     ]
    }
   ],
   "source": [
    "rcf = RandomForestClassifier(n_estimators = 100,max_depth=20, min_samples_split=1000, min_samples_leaf=500)\n",
    "rcf.fit(X_train_transformed,y_train)\n",
    "print(\"Accuracy on training set: {:.3f}\".format(rcf.score(X_train_transformed, y_train)))\n",
    "print(\"Accuracy on test set: {:.3f}\".format(rcf.score(X_test_transformed, y_test)))"
   ]
  },
  {
   "cell_type": "code",
   "execution_count": 21,
   "id": "c7f3316f-89be-4b14-9539-6537f38d5b96",
   "metadata": {
    "tags": []
   },
   "outputs": [
    {
     "name": "stdout",
     "output_type": "stream",
     "text": [
      "Classifcation report:\n",
      "               precision    recall  f1-score   support\n",
      "\n",
      "           0       0.91      1.00      0.95     18392\n",
      "           1       0.00      0.00      0.00      1877\n",
      "\n",
      "    accuracy                           0.91     20269\n",
      "   macro avg       0.45      0.50      0.48     20269\n",
      "weighted avg       0.82      0.91      0.86     20269\n",
      "\n",
      "Confusion matrix:\n",
      " [[18392     0]\n",
      " [ 1877     0]]\n"
     ]
    },
    {
     "name": "stderr",
     "output_type": "stream",
     "text": [
      "/home/ec2-user/anaconda3/envs/pytorch_p310/lib/python3.10/site-packages/sklearn/metrics/_classification.py:1471: UndefinedMetricWarning: Precision and F-score are ill-defined and being set to 0.0 in labels with no predicted samples. Use `zero_division` parameter to control this behavior.\n",
      "  _warn_prf(average, modifier, msg_start, len(result))\n",
      "/home/ec2-user/anaconda3/envs/pytorch_p310/lib/python3.10/site-packages/sklearn/metrics/_classification.py:1471: UndefinedMetricWarning: Precision and F-score are ill-defined and being set to 0.0 in labels with no predicted samples. Use `zero_division` parameter to control this behavior.\n",
      "  _warn_prf(average, modifier, msg_start, len(result))\n",
      "/home/ec2-user/anaconda3/envs/pytorch_p310/lib/python3.10/site-packages/sklearn/metrics/_classification.py:1471: UndefinedMetricWarning: Precision and F-score are ill-defined and being set to 0.0 in labels with no predicted samples. Use `zero_division` parameter to control this behavior.\n",
      "  _warn_prf(average, modifier, msg_start, len(result))\n"
     ]
    }
   ],
   "source": [
    "y_pred = rcf.predict(X_test_transformed)\n",
    "print('Classifcation report:\\n', classification_report(y_test, y_pred))\n",
    "conf_mat = confusion_matrix(y_true=y_test, y_pred=y_pred)\n",
    "print('Confusion matrix:\\n', conf_mat)"
   ]
  },
  {
   "cell_type": "markdown",
   "id": "e122322e-2d64-4f80-82bd-ce1be7d627c7",
   "metadata": {},
   "source": [
    "The f1 score is poor corresponding to class 1.One reason of this is due to imbalance nature of the \n",
    "data set as we can see below"
   ]
  },
  {
   "cell_type": "code",
   "execution_count": 22,
   "id": "07af0a26-a4a4-4ac8-a7ed-d0118506c952",
   "metadata": {
    "tags": []
   },
   "outputs": [
    {
     "data": {
      "text/plain": [
       "<Axes: >"
      ]
     },
     "execution_count": 22,
     "metadata": {},
     "output_type": "execute_result"
    },
    {
     "data": {
      "image/png": "[encoded data removed]",
      "text/plain": [
       "<Figure size 640x480 with 1 Axes>"
      ]
     },
     "metadata": {},
     "output_type": "display_data"
    }
   ],
   "source": [
    "# target distribution\n",
    "counts = train['Loan Status'].value_counts()      # So target variable is NOT evenly distributed\n",
    "#print(counts)\n",
    "counts.plot(kind = 'bar')"
   ]
  },
  {
   "cell_type": "markdown",
   "id": "43ed405c-43be-4e35-8fc9-2de134d23a67",
   "metadata": {},
   "source": [
    "### One way to solve the data imbalace problem is data generation using SMOTE"
   ]
  },
  {
   "cell_type": "code",
   "execution_count": 25,
   "id": "26d5be12-2728-4ba2-9ba3-6cdef0b2a099",
   "metadata": {
    "tags": []
   },
   "outputs": [],
   "source": [
    "from imblearn.over_sampling import SMOTE\n",
    "\n",
    "smote = SMOTE(sampling_strategy='minority',random_state = 0)\n",
    "\n",
    "X_sm,y_sm = smote.fit_resample(X_train_transformed,y_train)"
   ]
  },
  {
   "cell_type": "code",
   "execution_count": 27,
   "id": "c3e00223-8faa-4141-b2c1-5abfb20387ee",
   "metadata": {
    "tags": []
   },
   "outputs": [
    {
     "name": "stdout",
     "output_type": "stream",
     "text": [
      "accuracy: 0.901475\n"
     ]
    }
   ],
   "source": [
    "rcf.fit(X_sm,y_sm)\n",
    "preds = rcf.predict(X_test_transformed)\n",
    "accuracy = float(np.sum(preds==y_test))/y_test.shape[0]\n",
    "print(\"accuracy: %f\" % (accuracy))"
   ]
  },
  {
   "cell_type": "code",
   "execution_count": 29,
   "id": "7cf641c8-3aed-4882-84db-602dde1e67df",
   "metadata": {
    "tags": []
   },
   "outputs": [
    {
     "name": "stdout",
     "output_type": "stream",
     "text": [
      "f1 score on test set: 0.007\n"
     ]
    }
   ],
   "source": [
    "print(\"f1 score on test set: {:.3f}\".format(f1_score(y_test,preds)))"
   ]
  },
  {
   "cell_type": "code",
   "execution_count": 26,
   "id": "0eae1adf-7dc0-4a41-a08a-102372f5228c",
   "metadata": {
    "tags": []
   },
   "outputs": [
    {
     "ename": "NameError",
     "evalue": "name 'xg_cl' is not defined",
     "output_type": "error",
     "traceback": [
      "\u001b[0;31m---------------------------------------------------------------------------\u001b[0m",
      "\u001b[0;31mNameError\u001b[0m                                 Traceback (most recent call last)",
      "Cell \u001b[0;32mIn[26], line 1\u001b[0m\n\u001b[0;32m----> 1\u001b[0m \u001b[43mxg_cl\u001b[49m\u001b[38;5;241m.\u001b[39mfit(X_sm,y_sm)\n\u001b[1;32m      2\u001b[0m preds \u001b[38;5;241m=\u001b[39m xg_cl\u001b[38;5;241m.\u001b[39mpredict(X_test_transformed)\n\u001b[1;32m      3\u001b[0m accuracy \u001b[38;5;241m=\u001b[39m \u001b[38;5;28mfloat\u001b[39m(np\u001b[38;5;241m.\u001b[39msum(preds\u001b[38;5;241m==\u001b[39my_test))\u001b[38;5;241m/\u001b[39my_test\u001b[38;5;241m.\u001b[39mshape[\u001b[38;5;241m0\u001b[39m]\n",
      "\u001b[0;31mNameError\u001b[0m: name 'xg_cl' is not defined"
     ]
    }
   ],
   "source": [
    "xg_cl.fit(X_sm,y_sm)\n",
    "preds = xg_cl.predict(X_test_transformed)\n",
    "accuracy = float(np.sum(preds==y_test))/y_test.shape[0]\n",
    "print(\"accuracy: %f\" % (accuracy))"
   ]
  },
  {
   "cell_type": "code",
   "execution_count": null,
   "id": "859b6df8-9e97-439c-a070-abca2014aaae",
   "metadata": {
    "tags": []
   },
   "outputs": [],
   "source": [
    "confusion_matrix(y_test,preds)"
   ]
  },
  {
   "cell_type": "code",
   "execution_count": null,
   "id": "b7be4896-5280-4da5-83a0-c02c8135e937",
   "metadata": {
    "tags": []
   },
   "outputs": [],
   "source": [
    "print(classification_report(y_test,preds))"
   ]
  },
  {
   "cell_type": "code",
   "execution_count": null,
   "id": "47d6b769-14a7-4e27-97c8-90bf1e7ad027",
   "metadata": {
    "tags": []
   },
   "outputs": [],
   "source": [
    "# Not much improvement"
   ]
  },
  {
   "cell_type": "markdown",
   "id": "c0c4059a-8361-4de1-9f76-45e0e0f87505",
   "metadata": {},
   "source": [
    "### Logistic Regression"
   ]
  },
  {
   "cell_type": "code",
   "execution_count": 30,
   "id": "0299aefe-491f-4fb2-a5b1-b21d58648201",
   "metadata": {
    "tags": []
   },
   "outputs": [],
   "source": [
    "ohe = OneHotEncoder(handle_unknown='ignore',sparse_output = False,drop='first')  # drop = fisrt to avoid collinearity"
   ]
  },
  {
   "cell_type": "code",
   "execution_count": 31,
   "id": "570f2388-587d-40b3-9439-cce43c1af94f",
   "metadata": {
    "tags": []
   },
   "outputs": [],
   "source": [
    "train_categorical_col = ohe.fit_transform(X_train[categorical_col])\n",
    "\n",
    "train_numerical_col = scaler.fit_transform(X_train[numerical_col])\n",
    "\n",
    "X_train_transformed = np.hstack((train_categorical_col,train_numerical_col))"
   ]
  },
  {
   "cell_type": "code",
   "execution_count": 32,
   "id": "8128c9de-d495-42a5-bdc6-488f805d5c1c",
   "metadata": {
    "tags": []
   },
   "outputs": [],
   "source": [
    "from sklearn.linear_model import LogisticRegression"
   ]
  },
  {
   "cell_type": "code",
   "execution_count": 62,
   "id": "c710841f-e0d9-4d44-837d-99f0fc36cdfd",
   "metadata": {
    "tags": []
   },
   "outputs": [],
   "source": [
    "logreg = LogisticRegression(max_iter = 1000,C = 0.01)   # Taking Cost of missclassification a bit low to avoid overfitting "
   ]
  },
  {
   "cell_type": "code",
   "execution_count": 63,
   "id": "16c8af4e-30ea-4192-b738-76128ca488e0",
   "metadata": {
    "tags": []
   },
   "outputs": [
    {
     "data": {
      "text/html": [
       "<style>#sk-container-id-9 {color: black;}#sk-container-id-9 pre{padding: 0;}#sk-container-id-9 div.sk-toggleable {background-color: white;}#sk-container-id-9 label.sk-toggleable__label {cursor: pointer;display: block;width: 100%;margin-bottom: 0;padding: 0.3em;box-sizing: border-box;text-align: center;}#sk-container-id-9 label.sk-toggleable__label-arrow:before {content: \"▸\";float: left;margin-right: 0.25em;color: #696969;}#sk-container-id-9 label.sk-toggleable__label-arrow:hover:before {color: black;}#sk-container-id-9 div.sk-estimator:hover label.sk-toggleable__label-arrow:before {color: black;}#sk-container-id-9 div.sk-toggleable__content {max-height: 0;max-width: 0;overflow: hidden;text-align: left;background-color: #f0f8ff;}#sk-container-id-9 div.sk-toggleable__content pre {margin: 0.2em;color: black;border-radius: 0.25em;background-color: #f0f8ff;}#sk-container-id-9 input.sk-toggleable__control:checked~div.sk-toggleable__content {max-height: 200px;max-width: 100%;overflow: auto;}#sk-container-id-9 input.sk-toggleable__control:checked~label.sk-toggleable__label-arrow:before {content: \"▾\";}#sk-container-id-9 div.sk-estimator input.sk-toggleable__control:checked~label.sk-toggleable__label {background-color: #d4ebff;}#sk-container-id-9 div.sk-label input.sk-toggleable__control:checked~label.sk-toggleable__label {background-color: #d4ebff;}#sk-container-id-9 input.sk-hidden--visually {border: 0;clip: rect(1px 1px 1px 1px);clip: rect(1px, 1px, 1px, 1px);height: 1px;margin: -1px;overflow: hidden;padding: 0;position: absolute;width: 1px;}#sk-container-id-9 div.sk-estimator {font-family: monospace;background-color: #f0f8ff;border: 1px dotted black;border-radius: 0.25em;box-sizing: border-box;margin-bottom: 0.5em;}#sk-container-id-9 div.sk-estimator:hover {background-color: #d4ebff;}#sk-container-id-9 div.sk-parallel-item::after {content: \"\";width: 100%;border-bottom: 1px solid gray;flex-grow: 1;}#sk-container-id-9 div.sk-label:hover label.sk-toggleable__label {background-color: #d4ebff;}#sk-container-id-9 div.sk-serial::before {content: \"\";position: absolute;border-left: 1px solid gray;box-sizing: border-box;top: 0;bottom: 0;left: 50%;z-index: 0;}#sk-container-id-9 div.sk-serial {display: flex;flex-direction: column;align-items: center;background-color: white;padding-right: 0.2em;padding-left: 0.2em;position: relative;}#sk-container-id-9 div.sk-item {position: relative;z-index: 1;}#sk-container-id-9 div.sk-parallel {display: flex;align-items: stretch;justify-content: center;background-color: white;position: relative;}#sk-container-id-9 div.sk-item::before, #sk-container-id-9 div.sk-parallel-item::before {content: \"\";position: absolute;border-left: 1px solid gray;box-sizing: border-box;top: 0;bottom: 0;left: 50%;z-index: -1;}#sk-container-id-9 div.sk-parallel-item {display: flex;flex-direction: column;z-index: 1;position: relative;background-color: white;}#sk-container-id-9 div.sk-parallel-item:first-child::after {align-self: flex-end;width: 50%;}#sk-container-id-9 div.sk-parallel-item:last-child::after {align-self: flex-start;width: 50%;}#sk-container-id-9 div.sk-parallel-item:only-child::after {width: 0;}#sk-container-id-9 div.sk-dashed-wrapped {border: 1px dashed gray;margin: 0 0.4em 0.5em 0.4em;box-sizing: border-box;padding-bottom: 0.4em;background-color: white;}#sk-container-id-9 div.sk-label label {font-family: monospace;font-weight: bold;display: inline-block;line-height: 1.2em;}#sk-container-id-9 div.sk-label-container {text-align: center;}#sk-container-id-9 div.sk-container {/* jupyter's `normalize.less` sets `[hidden] { display: none; }` but bootstrap.min.css set `[hidden] { display: none !important; }` so we also need the `!important` here to be able to override the default hidden behavior on the sphinx rendered scikit-learn.org. See: https://github.com/scikit-learn/scikit-learn/issues/21755 */display: inline-block !important;position: relative;}#sk-container-id-9 div.sk-text-repr-fallback {display: none;}</style><div id=\"sk-container-id-9\" class=\"sk-top-container\"><div class=\"sk-text-repr-fallback\"><pre>LogisticRegression(C=0.01, max_iter=1000)</pre><b>In a Jupyter environment, please rerun this cell to show the HTML representation or trust the notebook. <br />On GitHub, the HTML representation is unable to render, please try loading this page with nbviewer.org.</b></div><div class=\"sk-container\" hidden><div class=\"sk-item\"><div class=\"sk-estimator sk-toggleable\"><input class=\"sk-toggleable__control sk-hidden--visually\" id=\"sk-estimator-id-9\" type=\"checkbox\" checked><label for=\"sk-estimator-id-9\" class=\"sk-toggleable__label sk-toggleable__label-arrow\">LogisticRegression</label><div class=\"sk-toggleable__content\"><pre>LogisticRegression(C=0.01, max_iter=1000)</pre></div></div></div></div></div>"
      ],
      "text/plain": [
       "LogisticRegression(C=0.01, max_iter=1000)"
      ]
     },
     "execution_count": 63,
     "metadata": {},
     "output_type": "execute_result"
    }
   ],
   "source": [
    "logreg.fit(X_train_transformed,y_train)"
   ]
  },
  {
   "cell_type": "code",
   "execution_count": 64,
   "id": "cf0223c6-d3aa-4b11-ab9d-538dfede45fc",
   "metadata": {
    "tags": []
   },
   "outputs": [],
   "source": [
    "test_categorical_col = ohe.transform(X_test[categorical_col])\n",
    "\n",
    "test_numerical_col = scaler.transform(X_test[numerical_col])\n",
    "\n",
    "X_test_transformed = np.hstack((test_categorical_col,test_numerical_col))"
   ]
  },
  {
   "cell_type": "code",
   "execution_count": 65,
   "id": "f23e0036-8798-441d-82c1-d64994d92c4e",
   "metadata": {
    "tags": []
   },
   "outputs": [
    {
     "name": "stdout",
     "output_type": "stream",
     "text": [
      "accuracy: 0.907396\n"
     ]
    }
   ],
   "source": [
    "preds = logreg.predict(X_test_transformed)\n",
    "accuracy = float(np.sum(preds==y_test))/y_test.shape[0]\n",
    "print(\"accuracy: %f\" % (accuracy))"
   ]
  },
  {
   "cell_type": "code",
   "execution_count": 66,
   "id": "42477fd6-16ad-403e-85df-7cf338953444",
   "metadata": {
    "tags": []
   },
   "outputs": [
    {
     "name": "stdout",
     "output_type": "stream",
     "text": [
      "f1 score on test set: 0.000\n"
     ]
    }
   ],
   "source": [
    "print(\"f1 score on test set: {:.3f}\".format(f1_score(y_test,preds)))"
   ]
  },
  {
   "cell_type": "markdown",
   "id": "071df7d2-81d7-460a-bb2e-7880c1bc3013",
   "metadata": {
    "tags": []
   },
   "source": [
    "**f1 score does not seems to imporove.**"
   ]
  },
  {
   "cell_type": "code",
   "execution_count": null,
   "id": "1c288a1c-0462-499a-a585-9ae52ea91ff1",
   "metadata": {},
   "outputs": [],
   "source": [
    "import xgboost as xgb\n",
    "xg_cl = xgb.XGBClassifier(objective='binary:logistic',n_estimators=10, seed=123)\n",
    "xg_cl.fit(X_train, y_train)\n",
    "preds = xg_cl.predict(X_test)\n",
    "accuracy = float(np.sum(preds==y_test))/y_test.shape[0]\n",
    "print(\"accuracy: %f\" % (accuracy))"
   ]
  }
 ],
 "metadata": {
  "kernelspec": {
   "display_name": "conda_pytorch_p310",
   "language": "python",
   "name": "conda_pytorch_p310"
  },
  "language_info": {
   "codemirror_mode": {
    "name": "ipython",
    "version": 3
   },
   "file_extension": ".py",
   "mimetype": "text/x-python",
   "name": "python",
   "nbconvert_exporter": "python",
   "pygments_lexer": "ipython3",
   "version": "3.10.13"
  }
 },
 "nbformat": 4,
 "nbformat_minor": 5
}
